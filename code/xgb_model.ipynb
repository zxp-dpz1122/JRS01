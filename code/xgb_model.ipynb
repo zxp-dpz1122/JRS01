{
 "cells": [
  {
   "cell_type": "code",
   "execution_count": 1,
   "id": "490fc7a2-d654-4e76-a06c-5376fc5ac563",
   "metadata": {},
   "outputs": [],
   "source": [
    "import xgboost as xgb\n",
    "import data_read as dr\n",
    "import pandas as pd\n",
    "from sklearn.preprocessing import LabelEncoder\n",
    "from sklearn.model_selection import train_test_split\n",
    "from sklearn.metrics import accuracy_score\n",
    "import numpy as np\n",
    "import os"
   ]
  },
  {
   "cell_type": "code",
   "execution_count": 2,
   "id": "062b97d3-655a-4371-b584-c601392d3640",
   "metadata": {},
   "outputs": [],
   "source": [
    "def read_data_from_csv2(file_path):\n",
    "    # 读取xy数据csv文件，返回DataFrame文件\n",
    "    data_raw = pd.read_csv(file_path, index_col=0)  # index_col=0,指定第一列作为行索引\n",
    "    data_pro = data_raw.copy()  # 保护原始数据不收破坏\n",
    "    data_pro.drop(['num', 'x', 'y'], axis=1, inplace=True)  # 删除num,x,y列，axis=1按列删除，axis=0，按行删除\n",
    "    # data_.drop_duplicates(subset=None, keep=\"first\", inplace=True)  # 去重\n",
    "    y_label = data_pro.iloc[:, 0]\n",
    "    label = LabelEncoder()  # 实例化\n",
    "    data_pro.iloc[:, 0] = label.fit_transform(y_label)\n",
    "    return data_pro"
   ]
  },
  {
   "cell_type": "code",
   "execution_count": 3,
   "id": "a252b498-f6b1-4004-96f2-f416eb3fa8fe",
   "metadata": {},
   "outputs": [
    {
     "name": "stderr",
     "output_type": "stream",
     "text": [
      "C:\\Users\\Lenovo\\AppData\\Local\\Temp\\ipykernel_41080\\1986047577.py:9: DeprecationWarning: In a future version, `df.iloc[:, i] = newvals` will attempt to set the values inplace instead of always setting a new array. To retain the old behavior, use either `df[df.columns[i]] = newvals` or, if columns are non-unique, `df.isetitem(i, newvals)`\n",
      "  data_pro.iloc[:, 0] = label.fit_transform(y_label)\n"
     ]
    },
    {
     "name": "stdout",
     "output_type": "stream",
     "text": [
      "read successfully\n"
     ]
    }
   ],
   "source": [
    "current_path = os.getcwd()\n",
    "base_path = os.path.dirname(current_path)\n",
    "# 数据存放路径\n",
    "file_path = base_path + r\"\\data\\01feature\\all\\12ALOS_BI.csv\"\n",
    "image_path = base_path + r\"\\data\\04image_pre\\scheme12.dat\"\n",
    "image_out_path = base_path + r\"\\result\\mapping_out\\scheme12\"\n",
    "\n",
    "# 读取数据\n",
    "data = read_data_from_csv2(file_path)  # 给y值编码\n",
    "ori_image = dr.Read_Image(image_path)\n",
    "\n",
    "# 将影像数据转为DataFrame结构的文件\n",
    "df = pd.DataFrame(ori_image.transpose_data)\n",
    "df.replace([np.inf, -np.inf], np.nan, inplace=True)\n",
    "#print(df.isnull().sum(axis=0))\n",
    "#print(np.isinf(df).sum(axis=0))\n",
    "#print(np.isfinite(df).sum(axis=0))\n",
    "\n",
    "df.fillna(df.mean(axis=0),inplace=True) # 用每列的均值替换nan值\n",
    "#print(df.mean(axis=0))\n",
    "#print(np.isfinite(df).sum(axis=0))\n",
    "\n",
    "df.columns = ['HH','HV','HH-HV','HH+HV','HH/HV']\n",
    "dimage = xgb.DMatrix(df)"
   ]
  },
  {
   "cell_type": "code",
   "execution_count": 4,
   "id": "4654d074-f733-4cb0-bea2-b7867f648028",
   "metadata": {},
   "outputs": [
    {
     "name": "stdout",
     "output_type": "stream",
     "text": [
      "0.5055944055944056\n"
     ]
    }
   ],
   "source": [
    "# 数据预处理-决策树和树的集成算法们，对决策树不需要无量纲化，决策树可以把任意数据都处理得很好\n",
    "data_ = data.copy()  # 保护原始数据不收破坏\n",
    "data_ = data.replace([np.inf, -np.inf], np.nan).dropna(axis=0)\n",
    "x = data_.iloc[:, 1:]\n",
    "y = data_.iloc[:, 0]\n",
    "# 参数\n",
    "param = {'verbosity':0 # 默认为1，warning, 0:silent, 2:info,3:debug\n",
    "         ,'objective':'multi:softmax' # 要给出分类数目\n",
    "         ,'num_class':8\n",
    "         ,'eta':0.2\n",
    "         ,'max_depth':8\n",
    "         ,'min_child_weight':4\n",
    "         ,'gamma':0\n",
    "         ,'subsample':0.80555555556\n",
    "         ,'colsample_bytree': 0.8611111111\n",
    "         ,'lambda':1\n",
    "         ,'alpha':0\n",
    "         ,'colsample_bylevel':1\n",
    "         ,'colsample_bynode':1\n",
    "         ,'eval_metric':'mlogloss'}\n",
    "\n",
    "xtrain, xtest, ytrain, ytest = train_test_split(x, y, test_size=0.33, random_state=32, stratify=y)\n",
    "dtrain = xgb.DMatrix(xtrain,label= ytrain)\n",
    "dtest = xgb.DMatrix(xtest,label=ytest)\n",
    "# dfull = xgb.DMatrix(x,y) # 全数据\n",
    "xgb_cla = xgb.train(param, dtrain, num_boost_round=500)\n",
    "pres = xgb_cla.predict(dtest)\n",
    "score = accuracy_score(ytest, pres)\n",
    "print(score)"
   ]
  },
  {
   "cell_type": "code",
   "execution_count": 5,
   "id": "f7178a04-e377-4ea4-8899-b28883e3afe0",
   "metadata": {},
   "outputs": [
    {
     "data": {
      "text/plain": [
       "['scheme12.dat']"
      ]
     },
     "execution_count": 5,
     "metadata": {},
     "output_type": "execute_result"
    }
   ],
   "source": [
    "import joblib\n",
    "# 保存模型\n",
    "joblib.dump(xgb_cla,'scheme12.dat')"
   ]
  },
  {
   "cell_type": "code",
   "execution_count": 6,
   "id": "e1e6f6a0-0719-4dbe-a07a-43c97b0c8705",
   "metadata": {},
   "outputs": [
    {
     "name": "stdout",
     "output_type": "stream",
     "text": [
      "output successfully\n",
      "finish\n"
     ]
    }
   ],
   "source": [
    "# 将训练模型应用于影像\n",
    "image_pre = xgb_cla.predict(dimage)\n",
    "output_image = image_pre.reshape(ori_image.height, ori_image.width)\n",
    "\n",
    "# 输出分类结果\n",
    "dr.Image_output(image_out_path, output_image, ori_image)\n",
    "\n",
    "print('finish')"
   ]
  },
  {
   "cell_type": "code",
   "execution_count": null,
   "id": "a2a588b7-b250-4eb8-a716-65c73ab09541",
   "metadata": {},
   "outputs": [],
   "source": []
  }
 ],
 "metadata": {
  "kernelspec": {
   "display_name": "Python 3 (ipykernel)",
   "language": "python",
   "name": "python3"
  },
  "language_info": {
   "codemirror_mode": {
    "name": "ipython",
    "version": 3
   },
   "file_extension": ".py",
   "mimetype": "text/x-python",
   "name": "python",
   "nbconvert_exporter": "python",
   "pygments_lexer": "ipython3",
   "version": "3.11.5"
  }
 },
 "nbformat": 4,
 "nbformat_minor": 5
}
